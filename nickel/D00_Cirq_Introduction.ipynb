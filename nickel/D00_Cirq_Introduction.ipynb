{
  "cells": [
    {
      "cell_type": "markdown",
      "metadata": {
        "id": "view-in-github",
        "colab_type": "text"
      },
      "source": [
        "<a href=\"https://colab.research.google.com/github/sbbzplt/nickel/blob/master/nickel/D00_Cirq_Introduction.ipynb\" target=\"_parent\"><img src=\"https://colab.research.google.com/assets/colab-badge.svg\" alt=\"Open In Colab\"/></a>"
      ]
    },
    {
      "cell_type": "markdown",
      "metadata": {
        "id": "jIFPVPh_q3e3"
      },
      "source": [
        "<table  align=\"left\" width=\"100%\"> <tr>\n",
        "        <td  style=\"background-color:#ffffff;\"><a href=\"https://qsoftware.lu.lv/index.php/qworld/\" target=\"_blank\"><img src=\"https://github.com/sbbzplt/nickel/blob/master/images/qworld.jpg?raw=true\" width=\"35%\" align=\"left\"></a></td>\n",
        "        <td  align=\"right\" style=\"background-color:#ffffff;vertical-align:bottom;horizontal-align:right\">\n",
        "            prepared by Özlem Salehi (<a href=\"http://qworld.lu.lv/index.php/qturkey/\" target=\"_blank\">QTurkey</a>)\n",
        "        </td>        \n",
        "</tr></table>"
      ]
    },
    {
      "cell_type": "markdown",
      "metadata": {
        "id": "KO1IVitiq3e8"
      },
      "source": [
        "<table width=\"100%\"><tr><td style=\"color:#bbbbbb;background-color:#ffffff;font-size:11px;font-style:italic;text-align:right;\">This cell contains some macros. If there is a problem with displaying mathematical formulas, please run this cell to load these macros. </td></tr></table>\n",
        "$ \\newcommand{\\bra}[1]{\\langle #1|} $\n",
        "$ \\newcommand{\\ket}[1]{|#1\\rangle} $\n",
        "$ \\newcommand{\\braket}[2]{\\langle #1|#2\\rangle} $\n",
        "$ \\newcommand{\\dot}[2]{ #1 \\cdot #2} $\n",
        "$ \\newcommand{\\biginner}[2]{\\left\\langle #1,#2\\right\\rangle} $\n",
        "$ \\newcommand{\\mymatrix}[2]{\\left( \\begin{array}{#1} #2\\end{array} \\right)} $\n",
        "$ \\newcommand{\\myvector}[1]{\\mymatrix{c}{#1}} $\n",
        "$ \\newcommand{\\myrvector}[1]{\\mymatrix{r}{#1}} $\n",
        "$ \\newcommand{\\mypar}[1]{\\left( #1 \\right)} $\n",
        "$ \\newcommand{\\mybigpar}[1]{ \\Big( #1 \\Big)} $\n",
        "$ \\newcommand{\\sqrttwo}{\\frac{1}{\\sqrt{2}}} $\n",
        "$ \\newcommand{\\dsqrttwo}{\\dfrac{1}{\\sqrt{2}}} $\n",
        "$ \\newcommand{\\onehalf}{\\frac{1}{2}} $\n",
        "$ \\newcommand{\\donehalf}{\\dfrac{1}{2}} $\n",
        "$ \\newcommand{\\hadamard}{ \\mymatrix{rr}{ \\sqrttwo & \\sqrttwo \\\\ \\sqrttwo & -\\sqrttwo }} $\n",
        "$ \\newcommand{\\vzero}{\\myvector{1\\\\0}} $\n",
        "$ \\newcommand{\\vone}{\\myvector{0\\\\1}} $\n",
        "$ \\newcommand{\\stateplus}{\\myvector{ \\sqrttwo \\\\  \\sqrttwo } } $\n",
        "$ \\newcommand{\\stateminus}{ \\myrvector{ \\sqrttwo \\\\ -\\sqrttwo } } $\n",
        "$ \\newcommand{\\myarray}[2]{ \\begin{array}{#1}#2\\end{array}} $\n",
        "$ \\newcommand{\\X}{ \\mymatrix{cc}{0 & 1 \\\\ 1 & 0}  } $\n",
        "$ \\newcommand{\\Z}{ \\mymatrix{rr}{1 & 0 \\\\ 0 & -1}  } $\n",
        "$ \\newcommand{\\Htwo}{ \\mymatrix{rrrr}{ \\frac{1}{2} & \\frac{1}{2} & \\frac{1}{2} & \\frac{1}{2} \\\\ \\frac{1}{2} & -\\frac{1}{2} & \\frac{1}{2} & -\\frac{1}{2} \\\\ \\frac{1}{2} & \\frac{1}{2} & -\\frac{1}{2} & -\\frac{1}{2} \\\\ \\frac{1}{2} & -\\frac{1}{2} & -\\frac{1}{2} & \\frac{1}{2} } } $\n",
        "$ \\newcommand{\\CNOT}{ \\mymatrix{cccc}{1 & 0 & 0 & 0 \\\\ 0 & 1 & 0 & 0 \\\\ 0 & 0 & 0 & 1 \\\\ 0 & 0 & 1 & 0} } $\n",
        "$ \\newcommand{\\norm}[1]{ \\left\\lVert #1 \\right\\rVert } $\n",
        "$ \\newcommand{\\pstate}[1]{ \\lceil \\mspace{-1mu} #1 \\mspace{-1.5mu} \\rfloor } $"
      ]
    },
    {
      "cell_type": "code",
      "source": [
        "!pip install cirq"
      ],
      "metadata": {
        "id": "NLFptkK1q7Zt"
      },
      "execution_count": null,
      "outputs": []
    },
    {
      "cell_type": "markdown",
      "metadata": {
        "id": "kO91TBflq3e-"
      },
      "source": [
        "<h1> Introduction to Cirq </h1>\n",
        "\n",
        "<hr>"
      ]
    },
    {
      "cell_type": "markdown",
      "metadata": {
        "id": "oDdsGM6Wq3e_"
      },
      "source": [
        "You can import Cirq using the following command:"
      ]
    },
    {
      "cell_type": "code",
      "execution_count": null,
      "metadata": {
        "id": "7lDewn_tq3fA"
      },
      "outputs": [],
      "source": [
        "import cirq"
      ]
    },
    {
      "cell_type": "markdown",
      "metadata": {
        "id": "P-Ic6PBIq3fC"
      },
      "source": [
        "<hr>\n",
        "<h2>Creating qubits</h2>"
      ]
    },
    {
      "cell_type": "markdown",
      "metadata": {
        "id": "xoZXkXppq3fC"
      },
      "source": [
        "There are different ways to create qubits in Cirq. Here, we will introduce two of them."
      ]
    },
    {
      "cell_type": "markdown",
      "metadata": {
        "id": "o7QwQzVNq3fD"
      },
      "source": [
        "<b>Named qubits</b>"
      ]
    },
    {
      "cell_type": "markdown",
      "metadata": {
        "id": "ARUKUhM0q3fE"
      },
      "source": [
        "<i>Named qubit</i> is the simplest way to create qubits. The qubits are identified by their name."
      ]
    },
    {
      "cell_type": "code",
      "execution_count": null,
      "metadata": {
        "id": "A8nxBF0Gq3fE"
      },
      "outputs": [],
      "source": [
        "#Let's create two qubits named source and target\n",
        "s = cirq.NamedQubit('source')\n",
        "t = cirq.NamedQubit('target')\n",
        "print(s)\n",
        "print(t)"
      ]
    },
    {
      "cell_type": "markdown",
      "metadata": {
        "id": "WJPkHRvFq3fF"
      },
      "source": [
        "<b>Lined qubits</b>"
      ]
    },
    {
      "cell_type": "markdown",
      "metadata": {
        "id": "R0w46u3Dq3fF"
      },
      "source": [
        "<i>Lined qubit</i> creates a qubit located on a 1-D line and each qubit is identified by its $x$ coordinate. "
      ]
    },
    {
      "cell_type": "code",
      "execution_count": null,
      "metadata": {
        "id": "RDK7PF09q3fG"
      },
      "outputs": [],
      "source": [
        "# Returns the 4th qubit on the line\n",
        "q4 = cirq.LineQubit(4)\n",
        "print(q4)\n",
        "#Note that 4 is not the number of qubits."
      ]
    },
    {
      "cell_type": "markdown",
      "metadata": {
        "id": "o88CKp4nq3fG"
      },
      "source": [
        "To create a list of qubits, range function should be used."
      ]
    },
    {
      "cell_type": "code",
      "execution_count": null,
      "metadata": {
        "scrolled": false,
        "id": "DKVUgPrsq3fH"
      },
      "outputs": [],
      "source": [
        "#Returns a list of 4 qubits, starting at index 0 and ending at index 3\n",
        "qlist = cirq.LineQubit.range(4) \n",
        "\n",
        "#List can be subscriptable\n",
        "print(qlist[2])\n",
        "\n",
        "#Qubits in the list can be stored individually as well\n",
        "qubit0, qubit1, qubit2 = cirq.LineQubit.range(3)"
      ]
    },
    {
      "cell_type": "markdown",
      "metadata": {
        "id": "gxlF1-8nq3fH"
      },
      "source": [
        "<hr>\n",
        "<h2>Creating Circiuts</h2>"
      ]
    },
    {
      "cell_type": "markdown",
      "metadata": {
        "id": "z67JNxE-q3fH"
      },
      "source": [
        "A quantum circuit is created by the following command."
      ]
    },
    {
      "cell_type": "code",
      "execution_count": null,
      "metadata": {
        "id": "kzluAtoBq3fJ"
      },
      "outputs": [],
      "source": [
        "#Creates a circuit object\n",
        "circuit = cirq.Circuit()"
      ]
    },
    {
      "cell_type": "markdown",
      "metadata": {
        "id": "Mat7xSEpq3fJ"
      },
      "source": [
        "<hr>\n",
        "<h2>Gates</h2>"
      ]
    },
    {
      "cell_type": "markdown",
      "metadata": {
        "id": "DdUrjmIcq3fJ"
      },
      "source": [
        "Here are some <i>gates</i> and how we apply them in Cirq. Gates are applied to qubits forming _operations_ and operations are appended to quantum circuits. Qubits do not belong to circuits."
      ]
    },
    {
      "cell_type": "code",
      "execution_count": null,
      "metadata": {
        "id": "UbUrvu55q3fK"
      },
      "outputs": [],
      "source": [
        "#Let's import the gates.\n",
        "from cirq import X, Z, H, CX, CZ, SWAP, CCX\n",
        "\n",
        "#Apply NOT gate to qubit 2\n",
        "circuit.append(X(qlist[2]))\n",
        "\n",
        "#Apply Z gate to qubit 2\n",
        "circuit.append(Z(qlist[2]))\n",
        "\n",
        "#Apply H gate to qubit 3\n",
        "circuit.append(H(qlist[3]))\n",
        "\n",
        "#Apply CNOT gate where qubit 2 is control and qubit 0 is target\n",
        "circuit.append(CX(qlist[2], qlist[0]))\n",
        "\n",
        "#Apply CZ gate where qubit 0 is control and qubit 1 is target\n",
        "circuit.append(CZ(qlist[0], qlist[1]))\n",
        "\n",
        "#Apply SWAP gates to qubits 1 and 3 \n",
        "circuit.append(SWAP(qlist[1], qlist[3]))\n",
        "\n",
        "#Apply CCNOT gate where qubit 0 and 1 are the control and qubit 2 is the target\n",
        "circuit.append(CCX(qlist[0], qlist[1], qlist[2]))"
      ]
    },
    {
      "cell_type": "markdown",
      "metadata": {
        "id": "qfTTb1lIq3fK"
      },
      "source": [
        "Let's draw our circuit to visualize the operations."
      ]
    },
    {
      "cell_type": "code",
      "execution_count": null,
      "metadata": {
        "scrolled": true,
        "id": "veSeeFcKq3fK"
      },
      "outputs": [],
      "source": [
        "print(circuit)"
      ]
    },
    {
      "cell_type": "markdown",
      "metadata": {
        "id": "V9cpZq3zq3fL"
      },
      "source": [
        "### Task 1\n",
        "    \n",
        "Create a quantum circuit with 10 qubits. \n",
        "\n",
        "1. Apply $H$ gate to qubit 0 \n",
        "2. Apply nine $CNOT$ gates where qubit $0$ is the control and qubit $i$ is the target for $i=1\\cdots9$.\n",
        "\n",
        "Draw your circuit."
      ]
    },
    {
      "cell_type": "code",
      "execution_count": null,
      "metadata": {
        "id": "-kUKlDA6q3fL"
      },
      "outputs": [],
      "source": [
        "import cirq\n",
        "from cirq import H, CX\n",
        "\n",
        "#\n",
        "# Your solution here\n",
        "#\n"
      ]
    },
    {
      "cell_type": "markdown",
      "metadata": {
        "id": "CKlNNrvKq3fL"
      },
      "source": [
        "[click for our solution](D00_Cirq_Introduction_Solutions.ipynb#task1)"
      ]
    },
    {
      "cell_type": "markdown",
      "metadata": {
        "id": "92-KYe0Gq3fL"
      },
      "source": [
        "<h2> More about gates </h2>"
      ]
    },
    {
      "cell_type": "markdown",
      "metadata": {
        "id": "9lO7nubOq3fL"
      },
      "source": [
        "It is possible to apply a gate to multiple qubits at once by using the keyword <i>on_each</i> and using `*` before the qubits. (`*` is used in Python to unpack a list)"
      ]
    },
    {
      "cell_type": "code",
      "execution_count": null,
      "metadata": {
        "id": "bNms9qOoq3fM"
      },
      "outputs": [],
      "source": [
        "circuit2 = cirq.Circuit()\n",
        "qlist = cirq.LineQubit.range(4)\n",
        "circuit2.append(H.on_each(*qlist))\n",
        "print(circuit2)"
      ]
    },
    {
      "cell_type": "markdown",
      "metadata": {
        "id": "1F10PUsEq3fM"
      },
      "source": [
        "<i>controlled</i> function creates the controlled version of a gate."
      ]
    },
    {
      "cell_type": "code",
      "execution_count": null,
      "metadata": {
        "id": "WV-aYyvZq3fM"
      },
      "outputs": [],
      "source": [
        "CCCH =  H(qlist[2]).controlled_by(qlist[0],qlist[1],qlist[3])\n",
        "circuit2.append(CCCH)\n",
        "print(circuit2)"
      ]
    },
    {
      "cell_type": "markdown",
      "metadata": {
        "id": "7cnHg4kwq3fM"
      },
      "source": [
        "It is also possible to first define the operation and then specify the qubits."
      ]
    },
    {
      "cell_type": "code",
      "execution_count": null,
      "metadata": {
        "id": "vkCvU2RDq3fM"
      },
      "outputs": [],
      "source": [
        "CCCZ = Z.controlled(3)\n",
        "circuit2.append(CCCZ(*qlist[0:4]))\n",
        "print(circuit2)"
      ]
    },
    {
      "cell_type": "markdown",
      "metadata": {
        "id": "Lgpzh-aIq3fM"
      },
      "source": [
        "One can define new gates by arithmetic operations as well"
      ]
    },
    {
      "cell_type": "code",
      "execution_count": null,
      "metadata": {
        "scrolled": true,
        "id": "T1Il9DpWq3fN"
      },
      "outputs": [],
      "source": [
        "ROOTX = X**0.5\n",
        "circuit2.append(ROOTX(qlist[1]))\n",
        "print(circuit2)"
      ]
    },
    {
      "cell_type": "markdown",
      "metadata": {
        "id": "z_8LeG6Uq3fN"
      },
      "source": [
        "### Task 2\n",
        "    \n",
        "Create a quantum circuit with 10 qubits. \n",
        "\n",
        "1. Apply $H$ gates to all qubits.\n",
        "2. Apply $X$ gate to qubit 0 controlled by qubits 1-9\n",
        "2. Apply $H$ gates to all qubits.\n",
        "\n",
        "Draw your circuit."
      ]
    },
    {
      "cell_type": "code",
      "execution_count": null,
      "metadata": {
        "id": "5YNPL3cZq3fN"
      },
      "outputs": [],
      "source": [
        "import cirq\n",
        "from cirq import H, X\n",
        "\n",
        "#\n",
        "# Your solution here\n",
        "#\n"
      ]
    },
    {
      "cell_type": "markdown",
      "metadata": {
        "id": "FW6Dpkvzq3fN"
      },
      "source": [
        "[click for our solution](D00_Cirq_Introduction_Solutions.ipynb#task2)"
      ]
    },
    {
      "cell_type": "markdown",
      "metadata": {
        "id": "fqU8WEazq3fO"
      },
      "source": [
        "<hr>\n",
        "<h2>Running Circuits</h2>"
      ]
    },
    {
      "cell_type": "markdown",
      "metadata": {
        "id": "Q3zjxnUiq3fO"
      },
      "source": [
        "One way to get results from your circuit is to measure and run it for multiple times. \n",
        "\n",
        "Let's first create a simple circuit and measure it. "
      ]
    },
    {
      "cell_type": "code",
      "execution_count": null,
      "metadata": {
        "id": "37KnjSk6q3fO"
      },
      "outputs": [],
      "source": [
        "import cirq\n",
        "from cirq import H, measure\n",
        "\n",
        "# Create quantum and classical registers with 2 qubits\n",
        "qlist = cirq.LineQubit.range(2)\n",
        "\n",
        "# Create a new circuit\n",
        "circuit = cirq.Circuit()\n",
        "\n",
        "# Apply H gate to qubit 0\n",
        "circuit.append(H(qlist[0]))\n",
        "\n",
        "# Measure both qubits, result is the label\n",
        "circuit.append(measure(*qlist, key='result'))\n",
        "\n",
        "print(circuit)"
      ]
    },
    {
      "cell_type": "markdown",
      "metadata": {
        "id": "o8mmvqdvq3fO"
      },
      "source": [
        "Cirq can simulate circuits with upto 20 qubits. We initalize the <i>simulator</i> and run our circuit for multiple times to take samples."
      ]
    },
    {
      "cell_type": "code",
      "execution_count": null,
      "metadata": {
        "id": "Rjce6jc5q3fO"
      },
      "outputs": [],
      "source": [
        "# This is the local simulator \n",
        "s = cirq.Simulator()\n",
        "\n",
        "# circuit is the circuit to be simulated\n",
        "# shots is the how many times we want to run the circuit\n",
        "samples=s.run(circuit, repetitions=1000)\n",
        "\n",
        "# Get the results as a dictionary\n",
        "print(samples.histogram(key='result'))"
      ]
    },
    {
      "cell_type": "markdown",
      "metadata": {
        "id": "bwTKF2Rzq3fO"
      },
      "source": [
        "Note that the outputs are in decimal form (i.e. 2 instead of 10). We can obtain the state representation as follows."
      ]
    },
    {
      "cell_type": "code",
      "execution_count": null,
      "metadata": {
        "id": "XwwB5pAIq3fP"
      },
      "outputs": [],
      "source": [
        "def bitstring(bits):\n",
        "    return \"\".join(str(int(b)) for b in bits)\n",
        "\n",
        "counts = samples.histogram(key=\"result\",fold_func=bitstring)\n",
        "print(counts)"
      ]
    },
    {
      "cell_type": "markdown",
      "metadata": {
        "id": "gnHBLxYyq3fP"
      },
      "source": [
        "Cirq also provides the list of all measurement outcomes as well."
      ]
    },
    {
      "cell_type": "code",
      "execution_count": null,
      "metadata": {
        "id": "J8TMa2ADq3fP"
      },
      "outputs": [],
      "source": [
        "result = samples.measurements[\"result\"]\n",
        "print(result)"
      ]
    },
    {
      "cell_type": "markdown",
      "metadata": {
        "id": "d-ehbJA3q3fQ"
      },
      "source": [
        "It is also possible to measure only some of the qubits. Let's only measure qlist[0] this time."
      ]
    },
    {
      "cell_type": "code",
      "execution_count": null,
      "metadata": {
        "scrolled": true,
        "id": "rPpinFG7q3fQ"
      },
      "outputs": [],
      "source": [
        "import cirq\n",
        "from cirq import H, measure\n",
        "\n",
        "# Create quantum and classical registers with 2 qubits\n",
        "qlist = cirq.LineQubit.range(2)\n",
        "\n",
        "# Create a new circuit\n",
        "circuit = cirq.Circuit()\n",
        "\n",
        "# Apply H gate to qubit 0\n",
        "circuit.append(H(qlist[0]))\n",
        "\n",
        "# Measure both qubits, result is the label\n",
        "circuit.append(measure(qlist[0], key='result'))\n",
        "\n",
        "print(circuit)"
      ]
    },
    {
      "cell_type": "code",
      "source": [
        "\n",
        "# This is the local simulator \n",
        "s = cirq.Simulator()\n",
        "\n",
        "samples=s.run(circuit, repetitions=1000)\n",
        "\n",
        "def bitstring(bits):\n",
        "    return \"\".join(str(int(b)) for b in bits)\n",
        "\n",
        "counts = samples.histogram(key=\"result\",fold_func=bitstring)\n",
        "print(counts)"
      ],
      "metadata": {
        "id": "Rl3bLip0wuyU"
      },
      "execution_count": null,
      "outputs": []
    },
    {
      "cell_type": "markdown",
      "metadata": {
        "id": "0dABUsN4q3fQ"
      },
      "source": [
        "<a id=\"task3\"></a>\n",
        "### Task 3\n",
        "    \n",
        "Implement the circuit in Task 1. Measure all the qubits and simulate your circuit for 1000 times."
      ]
    },
    {
      "cell_type": "code",
      "execution_count": null,
      "metadata": {
        "id": "haKbbmzxq3fR"
      },
      "outputs": [],
      "source": [
        "import cirq\n",
        "from cirq import H, CX, measure\n",
        "\n",
        "#\n",
        "# Your solution here\n",
        "#\n"
      ]
    },
    {
      "cell_type": "markdown",
      "metadata": {
        "id": "-NF43wx-q3fR"
      },
      "source": [
        "[click for our solution](D00_Cirq_Introduction_Solutions.ipynb#task3)"
      ]
    },
    {
      "cell_type": "markdown",
      "metadata": {
        "id": "vmGfXvl6q3fR"
      },
      "source": [
        "<hr>"
      ]
    },
    {
      "cell_type": "markdown",
      "metadata": {
        "id": "YECftAcYq3fR"
      },
      "source": [
        "## Debugging the Circuits - State Representation"
      ]
    },
    {
      "cell_type": "markdown",
      "metadata": {
        "id": "Xa0GnxR9q3fR"
      },
      "source": [
        "It is possible to get the exact quantum state from the simulator. You shouldn't measure your circuit before getting the state. \n",
        "\n",
        "We will use the _simulate_ function in Cirq to obtain the exact quantum state."
      ]
    },
    {
      "cell_type": "code",
      "execution_count": null,
      "metadata": {
        "id": "9qjerXtbq3fR"
      },
      "outputs": [],
      "source": [
        "import cirq\n",
        "from cirq import H, measure\n",
        "\n",
        "# Create quantum and classical registers with 2 qubits\n",
        "qlist = cirq.LineQubit.range(2)\n",
        "\n",
        "# Create a new circuit\n",
        "circuit = cirq.Circuit()\n",
        "\n",
        "# Apply H gate to qubit 0\n",
        "circuit.append(H(qlist[0]))\n",
        "\n",
        "# Simulate the circuit\n",
        "results=s.simulate(circuit)\n",
        "print(results)"
      ]
    },
    {
      "cell_type": "markdown",
      "metadata": {
        "id": "8OklJOPuq3fR"
      },
      "source": [
        "Note that since we did not apply any gate on qlist[1], it is not visible in the output. Let's check the following circuit."
      ]
    },
    {
      "cell_type": "code",
      "execution_count": null,
      "metadata": {
        "id": "YjSHwWpsq3fS"
      },
      "outputs": [],
      "source": [
        "import cirq\n",
        "from cirq import H, I, measure\n",
        "\n",
        "# Create quantum and classical registers with 2 qubits\n",
        "qlist = cirq.LineQubit.range(2)\n",
        "\n",
        "# Create a new circuit\n",
        "circuit = cirq.Circuit()\n",
        "\n",
        "# Apply H gate to qubit 0\n",
        "circuit.append(H(qlist[0]))\n",
        "# Apply Identity to qubit 1\n",
        "circuit.append(I(qlist[1]))\n",
        "\n",
        "# Simulate the circuit\n",
        "results=s.simulate(circuit)\n",
        "print(results)"
      ]
    },
    {
      "cell_type": "markdown",
      "metadata": {
        "id": "_XTW_k24q3fS"
      },
      "source": [
        "If you use simulator after the measurement, you will observe that the quantum state has collapsed to one of the states."
      ]
    },
    {
      "cell_type": "code",
      "execution_count": null,
      "metadata": {
        "id": "scmUiYkFq3fS"
      },
      "outputs": [],
      "source": [
        "circuit.append(measure(*qlist))\n",
        "results=s.simulate(circuit)\n",
        "print(results)"
      ]
    },
    {
      "cell_type": "markdown",
      "metadata": {
        "id": "_k5s3qR3q3fS"
      },
      "source": [
        "If we use the simulate method when there are greater than or equal to 4 qubits, then the quantum state is represented in vector form intead of Dirac notation."
      ]
    },
    {
      "cell_type": "code",
      "execution_count": null,
      "metadata": {
        "id": "W9QxamItq3fS"
      },
      "outputs": [],
      "source": [
        "import cirq\n",
        "from cirq import H, measure\n",
        "\n",
        "import cirq\n",
        "from cirq import H, I, measure\n",
        "\n",
        "# Create quantum and classical registers with 4 qubits\n",
        "qlist = cirq.LineQubit.range(20)\n",
        "\n",
        "# Create a new circuit\n",
        "circuit = cirq.Circuit()\n",
        "\n",
        "# Apply H gate to all qubits\n",
        "circuit.append(H.on_each(*qlist))\n",
        "\n",
        "# Simulate the circuit\n",
        "results=s.simulate(circuit)\n",
        "print(results)"
      ]
    },
    {
      "cell_type": "markdown",
      "metadata": {
        "id": "nQfzmhrfq3fT"
      },
      "source": [
        "### Task 4\n",
        "    \n",
        "Create a quantum circuit with 4 qubits. Apply Hadamard gate to each qubit and $CZ$ gate to qubits 0 and 1. Use the simulator without measuring the circuit. Check the entries with negative sign."
      ]
    },
    {
      "cell_type": "code",
      "execution_count": null,
      "metadata": {
        "id": "HP53gn4cq3fT"
      },
      "outputs": [],
      "source": [
        "import cirq\n",
        "from cirq import H, CZ\n",
        "\n",
        "#\n",
        "# Your solution here\n",
        "#"
      ]
    },
    {
      "cell_type": "markdown",
      "metadata": {
        "id": "5isC2tSHq3fT"
      },
      "source": [
        "[click for our solution](D00_Cirq_Introduction_Solutions.ipynb#task4)"
      ]
    },
    {
      "cell_type": "markdown",
      "metadata": {
        "id": "QoQ0iI6Nq3fT"
      },
      "source": [
        "<hr>\n",
        "<h2>Unitary Matrix Representation</h2>"
      ]
    },
    {
      "cell_type": "markdown",
      "metadata": {
        "id": "Px276_Xuq3fU"
      },
      "source": [
        "It is possible to obtain <i>unitary</i> matrix representation of gates and circuits."
      ]
    },
    {
      "cell_type": "code",
      "execution_count": null,
      "metadata": {
        "id": "SmS8DBxYq3fU"
      },
      "outputs": [],
      "source": [
        "from cirq import CX, X\n",
        "\n",
        "ROOTX = X**0.5\n",
        "\n",
        "print('Unitary matrix representation of the CNOT gate')\n",
        "print(cirq.unitary(CX))\n",
        "print('Unitary matrix representation of the CROOTX gate we have created')\n",
        "print(cirq.unitary(ROOTX))"
      ]
    },
    {
      "cell_type": "code",
      "execution_count": null,
      "metadata": {
        "scrolled": true,
        "id": "y48_t_cQq3fU"
      },
      "outputs": [],
      "source": [
        "print('Unitary matrix representation of H operator on 2 qubits.')\n",
        "qlist= cirq.LineQubit.range(2)\n",
        "circuit = cirq.Circuit()\n",
        "circuit.append(cirq.H.on_each(*qlist))\n",
        "print(cirq.unitary(circuit))"
      ]
    }
  ],
  "metadata": {
    "kernelspec": {
      "display_name": "Python 3",
      "language": "python",
      "name": "python3"
    },
    "language_info": {
      "codemirror_mode": {
        "name": "ipython",
        "version": 3
      },
      "file_extension": ".py",
      "mimetype": "text/x-python",
      "name": "python",
      "nbconvert_exporter": "python",
      "pygments_lexer": "ipython3",
      "version": "3.7.3"
    },
    "colab": {
      "provenance": [],
      "include_colab_link": true
    }
  },
  "nbformat": 4,
  "nbformat_minor": 0
}