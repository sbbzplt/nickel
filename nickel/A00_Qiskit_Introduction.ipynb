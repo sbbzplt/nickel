{
  "cells": [
    {
      "cell_type": "markdown",
      "metadata": {
        "id": "view-in-github",
        "colab_type": "text"
      },
      "source": [
        "<a href=\"https://colab.research.google.com/github/sbbzplt/nickel/blob/master/nickel/A00_Qiskit_Introduction.ipynb\" target=\"_parent\"><img src=\"https://colab.research.google.com/assets/colab-badge.svg\" alt=\"Open In Colab\"/></a>"
      ]
    },
    {
      "cell_type": "markdown",
      "metadata": {
        "id": "gTd5cX6EIXLY"
      },
      "source": [
        "<table  align=\"left\" width=\"100%\"> <tr>\n",
        "        <td  style=\"background-color:#ffffff;\"><a href=\"https://qsoftware.lu.lv/index.php/qworld/\" target=\"_blank\"><img src=\"https://github.com/sbbzplt/nickel/blob/master/images/qworld.jpg?raw=true\" width=\"35%\" align=\"left\"></a></td>\n",
        "        <td  align=\"right\" style=\"background-color:#ffffff;vertical-align:bottom;horizontal-align:right\">\n",
        "            prepared by Özlem Salehi (<a href=\"http://qworld.lu.lv/index.php/qturkey/\" target=\"_blank\">QTurkey</a>)\n",
        "        </td>        \n",
        "</tr></table>"
      ]
    },
    {
      "cell_type": "markdown",
      "metadata": {
        "id": "5P2R8--_IXLe"
      },
      "source": [
        "<table width=\"100%\"><tr><td style=\"color:#bbbbbb;background-color:#ffffff;font-size:11px;font-style:italic;text-align:right;\">This cell contains some macros. If there is a problem with displaying mathematical formulas, please run this cell to load these macros. </td></tr></table>\n",
        "$ \\newcommand{\\bra}[1]{\\langle #1|} $\n",
        "$ \\newcommand{\\ket}[1]{|#1\\rangle} $\n",
        "$ \\newcommand{\\braket}[2]{\\langle #1|#2\\rangle} $\n",
        "$ \\newcommand{\\dot}[2]{ #1 \\cdot #2} $\n",
        "$ \\newcommand{\\biginner}[2]{\\left\\langle #1,#2\\right\\rangle} $\n",
        "$ \\newcommand{\\mymatrix}[2]{\\left( \\begin{array}{#1} #2\\end{array} \\right)} $\n",
        "$ \\newcommand{\\myvector}[1]{\\mymatrix{c}{#1}} $\n",
        "$ \\newcommand{\\myrvector}[1]{\\mymatrix{r}{#1}} $\n",
        "$ \\newcommand{\\mypar}[1]{\\left( #1 \\right)} $\n",
        "$ \\newcommand{\\mybigpar}[1]{ \\Big( #1 \\Big)} $\n",
        "$ \\newcommand{\\sqrttwo}{\\frac{1}{\\sqrt{2}}} $\n",
        "$ \\newcommand{\\dsqrttwo}{\\dfrac{1}{\\sqrt{2}}} $\n",
        "$ \\newcommand{\\onehalf}{\\frac{1}{2}} $\n",
        "$ \\newcommand{\\donehalf}{\\dfrac{1}{2}} $\n",
        "$ \\newcommand{\\hadamard}{ \\mymatrix{rr}{ \\sqrttwo & \\sqrttwo \\\\ \\sqrttwo & -\\sqrttwo }} $\n",
        "$ \\newcommand{\\vzero}{\\myvector{1\\\\0}} $\n",
        "$ \\newcommand{\\vone}{\\myvector{0\\\\1}} $\n",
        "$ \\newcommand{\\stateplus}{\\myvector{ \\sqrttwo \\\\  \\sqrttwo } } $\n",
        "$ \\newcommand{\\stateminus}{ \\myrvector{ \\sqrttwo \\\\ -\\sqrttwo } } $\n",
        "$ \\newcommand{\\myarray}[2]{ \\begin{array}{#1}#2\\end{array}} $\n",
        "$ \\newcommand{\\X}{ \\mymatrix{cc}{0 & 1 \\\\ 1 & 0}  } $\n",
        "$ \\newcommand{\\Z}{ \\mymatrix{rr}{1 & 0 \\\\ 0 & -1}  } $\n",
        "$ \\newcommand{\\Htwo}{ \\mymatrix{rrrr}{ \\frac{1}{2} & \\frac{1}{2} & \\frac{1}{2} & \\frac{1}{2} \\\\ \\frac{1}{2} & -\\frac{1}{2} & \\frac{1}{2} & -\\frac{1}{2} \\\\ \\frac{1}{2} & \\frac{1}{2} & -\\frac{1}{2} & -\\frac{1}{2} \\\\ \\frac{1}{2} & -\\frac{1}{2} & -\\frac{1}{2} & \\frac{1}{2} } } $\n",
        "$ \\newcommand{\\CNOT}{ \\mymatrix{cccc}{1 & 0 & 0 & 0 \\\\ 0 & 1 & 0 & 0 \\\\ 0 & 0 & 0 & 1 \\\\ 0 & 0 & 1 & 0} } $\n",
        "$ \\newcommand{\\norm}[1]{ \\left\\lVert #1 \\right\\rVert } $\n",
        "$ \\newcommand{\\pstate}[1]{ \\lceil \\mspace{-1mu} #1 \\mspace{-1.5mu} \\rfloor } $\n",
        "$ \\newcommand{\\qgate}[1]{ \\mathop{\\textit{#1} } }$"
      ]
    },
    {
      "cell_type": "markdown",
      "metadata": {
        "id": "HXdt35LyIXLh"
      },
      "source": [
        "<h1> Introduction to Qiskit </h1>\n",
        "\n",
        "<hr>"
      ]
    },
    {
      "cell_type": "markdown",
      "metadata": {
        "id": "3l6AblqNIXLi"
      },
      "source": [
        "You can import Qiskit using the following command:"
      ]
    },
    {
      "cell_type": "code",
      "execution_count": null,
      "metadata": {
        "id": "R1wo1ZlqIXLj"
      },
      "outputs": [],
      "source": [
        "import qiskit"
      ]
    },
    {
      "cell_type": "markdown",
      "metadata": {
        "id": "WzIsCbUpIXLl"
      },
      "source": [
        "<hr>\n",
        "\n",
        "<h2>Creating quantum and classical registers</h2>"
      ]
    },
    {
      "cell_type": "markdown",
      "metadata": {
        "id": "NTTwjxsnIXLm"
      },
      "source": [
        "In Qiskit, we use a _quantum register_ to store our qubits."
      ]
    },
    {
      "cell_type": "code",
      "execution_count": null,
      "metadata": {
        "id": "67wHJOTeIXLn"
      },
      "outputs": [],
      "source": [
        "from qiskit import QuantumRegister, ClassicalRegister, QuantumCircuit\n",
        "\n",
        "# 4 is the number of qubits we want to create\n",
        "# qreg is the name of the quantum register\n",
        "qreg =  QuantumRegister(4) "
      ]
    },
    {
      "cell_type": "code",
      "execution_count": null,
      "metadata": {
        "id": "jsm9xjoKIXLo"
      },
      "outputs": [],
      "source": [
        "# You can give any name to your register\n",
        "output = QuantumRegister(1)"
      ]
    },
    {
      "cell_type": "markdown",
      "metadata": {
        "id": "B4C6H46uIXLp"
      },
      "source": [
        "Whenever a qubit is measured (which will be discussed soon), the result should be stored in a classical bit. We create a _classical register_ to store our classical bits."
      ]
    },
    {
      "cell_type": "code",
      "execution_count": null,
      "metadata": {
        "id": "8BdmzmZkIXLq"
      },
      "outputs": [],
      "source": [
        "# 4 is the number of classical bits we want to create\n",
        "# creg is the name of the classical register\n",
        "creg = ClassicalRegister(4) "
      ]
    },
    {
      "cell_type": "markdown",
      "metadata": {
        "id": "aGAsfOZjIXLr"
      },
      "source": [
        "<hr>\n",
        "<h2>Creating Circuits</h2>"
      ]
    },
    {
      "cell_type": "markdown",
      "metadata": {
        "id": "PoJyGtqsIXLr"
      },
      "source": [
        "A quantum circuit is composed of quantum and classical registers."
      ]
    },
    {
      "cell_type": "code",
      "execution_count": null,
      "metadata": {
        "id": "Fc2uxaXYIXLs"
      },
      "outputs": [],
      "source": [
        "# Creating a quantum circuit consisting of quantum register qreg and classical register creg\n",
        "circuit = QuantumCircuit(qreg,creg)"
      ]
    },
    {
      "cell_type": "code",
      "execution_count": null,
      "metadata": {
        "id": "7XdoTsnZIXLs"
      },
      "outputs": [],
      "source": [
        "# You can create a quantum circuit with multiple quantum registers\n",
        "circuit2 = QuantumCircuit(qreg, output, creg)"
      ]
    },
    {
      "cell_type": "code",
      "execution_count": null,
      "metadata": {
        "id": "2_wr1KDlIXLt"
      },
      "outputs": [],
      "source": [
        "# You can create a quantum circuit consisting of only a quantum register if no measurement will take place\n",
        "circuit3 = QuantumCircuit(qreg)"
      ]
    },
    {
      "cell_type": "code",
      "execution_count": null,
      "metadata": {
        "id": "_hYrTzKzIXLt"
      },
      "outputs": [],
      "source": [
        "# Creating a quantum circuit without specfiying any registers is also possible \n",
        "# Creates a quantum circuit with 3 qubits and 3 classical bits\n",
        "circuit4 = QuantumCircuit(3,3)"
      ]
    },
    {
      "cell_type": "markdown",
      "metadata": {
        "id": "TKS9Th3EIXLt"
      },
      "source": [
        "<hr>\n",
        "<h2>Gates</h2>"
      ]
    },
    {
      "cell_type": "markdown",
      "metadata": {
        "id": "yZQ62H1GIXLu"
      },
      "source": [
        "Here are some _gates_ and how we apply them in Qiskit. Gates are applied to quantum circuit by specifying the qubits which they apply to."
      ]
    },
    {
      "cell_type": "code",
      "execution_count": null,
      "metadata": {
        "id": "DPnIIJhTIXLu"
      },
      "outputs": [],
      "source": [
        "#Apply NOT gate to qubit 2\n",
        "circuit.x(qreg[2])\n",
        "\n",
        "#Apply Z gate to qubit 2\n",
        "circuit.z(qreg[2])\n",
        "\n",
        "#Apply H gate to qubit 3\n",
        "circuit.h(qreg[3])\n",
        "\n",
        "#Apply CNOT gate where qubit 2 is control and qubit 0 is target\n",
        "circuit.cx(qreg[2],qreg[0])\n",
        "\n",
        "#Apply CZ gate where qubit 0 is control and qubit 1 is target\n",
        "circuit.cz(qreg[0],qreg[1])\n",
        "\n",
        "#Apply SWAP gates to qubits 1 and 3 \n",
        "circuit.swap(qreg[1],qreg[3])\n",
        "\n",
        "#Apply CCNOT gate where qubit 0 and 1 are the control and qubit 2 is the target\n",
        "#Note that in Qiskit, it is possible to apply gates without specifying the register\n",
        "circuit.ccx(0,1,2)"
      ]
    },
    {
      "cell_type": "markdown",
      "metadata": {
        "id": "Z3gcSJJOIXLu"
      },
      "source": [
        "Let's draw our circuit to visualize the operations."
      ]
    },
    {
      "cell_type": "code",
      "execution_count": null,
      "metadata": {
        "id": "u5x4F3IuIXLv"
      },
      "outputs": [],
      "source": [
        "circuit.draw()"
      ]
    },
    {
      "cell_type": "markdown",
      "metadata": {
        "id": "Ctasd-d3IXLv"
      },
      "source": [
        "You may also use matplotlib to visualize your circuits."
      ]
    },
    {
      "cell_type": "code",
      "execution_count": null,
      "metadata": {
        "id": "wyFsbtWgIXLv"
      },
      "outputs": [],
      "source": [
        "circuit.draw(output='mpl')"
      ]
    },
    {
      "cell_type": "markdown",
      "metadata": {
        "id": "8Jy-Y9CHIXLv"
      },
      "source": [
        "### Task 1\n",
        "    \n",
        "Create a quantum circuit with 10 qubits. \n",
        "\n",
        "1. Apply $\\qgate{H}$ gate to qubit 0. \n",
        "2. Apply nine $\\qgate{CNOT}$ gates where qubit $0$ is the control and qubit $i$ is the target for $i=1\\cdots9$.\n",
        "\n",
        "Draw your circuit."
      ]
    },
    {
      "cell_type": "markdown",
      "metadata": {
        "id": "gOXgLi2GIXLv"
      },
      "source": [
        "[click for our solution](A00_Qiskit_Introduction_Solutions.ipynb#task1)"
      ]
    },
    {
      "cell_type": "code",
      "execution_count": null,
      "metadata": {
        "id": "8Z3ZwlL7IXLw"
      },
      "outputs": [],
      "source": [
        "from qiskit import QuantumRegister, ClassicalRegister, QuantumCircuit\n",
        "\n",
        "#\n",
        "# Your solution here\n",
        "#\n"
      ]
    },
    {
      "cell_type": "markdown",
      "metadata": {
        "id": "NtZ87BrKIXLw"
      },
      "source": [
        "<h2> More about gates </h2>"
      ]
    },
    {
      "cell_type": "markdown",
      "metadata": {
        "id": "83CqL6TZIXLw"
      },
      "source": [
        "It is possible to apply a gate to multiple qubits at once."
      ]
    },
    {
      "cell_type": "code",
      "execution_count": null,
      "metadata": {
        "id": "iUjIaUzGIXLw"
      },
      "outputs": [],
      "source": [
        "# Create a new circuit\n",
        "circuit2 = QuantumCircuit(qreg,creg)\n",
        "circuit2.h(qreg)\n",
        "circuit2.draw()"
      ]
    },
    {
      "cell_type": "markdown",
      "metadata": {
        "id": "vKYGzg1-IXLw"
      },
      "source": [
        "<i>controlled</i> function creates the controlled version of a gate."
      ]
    },
    {
      "cell_type": "code",
      "execution_count": null,
      "metadata": {
        "id": "7J1pqPiMIXLw"
      },
      "outputs": [],
      "source": [
        "# To be able to use the control function with H gate, we need to import H gate class\n",
        "from qiskit.circuit.library.standard_gates import HGate\n",
        "\n",
        "CCCH = HGate().control(3)\n",
        "\n",
        "# The first 3 qubits act as the control and the last qubit is the target\n",
        "circuit2.append(CCCH,[0,1,3,2])\n",
        "\n",
        "circuit2.draw()"
      ]
    },
    {
      "cell_type": "markdown",
      "metadata": {
        "id": "E7hQuFxDIXLx"
      },
      "source": [
        "One can define new gates by arithmetic operations as well"
      ]
    },
    {
      "cell_type": "code",
      "execution_count": null,
      "metadata": {
        "id": "DyU2t8u3IXLx"
      },
      "outputs": [],
      "source": [
        "from qiskit.circuit.library.standard_gates import XGate\n",
        "ROOTX = XGate().power(exponent=0.5)\n",
        "circuit2.append(ROOTX,[1])\n",
        "circuit2.draw()"
      ]
    },
    {
      "cell_type": "markdown",
      "metadata": {
        "id": "xku__MvBIXLx"
      },
      "source": [
        "### Task 2\n",
        "    \n",
        "Create a quantum circuit with 10 qubits. \n",
        "\n",
        "1. Apply $\\qgate{H}$ gates to all qubits.\n",
        "2. Apply $\\qgate{X}$ gate to qubit 0 controlled by qubits 1-9\n",
        "2. Apply $\\qgate{H}$ gates to all qubits.\n",
        "\n",
        "Draw your circuit."
      ]
    },
    {
      "cell_type": "code",
      "execution_count": null,
      "metadata": {
        "id": "eye-0araIXLx"
      },
      "outputs": [],
      "source": [
        "from qiskit import QuantumRegister, ClassicalRegister, QuantumCircuit\n",
        "from qiskit.circuit.library.standard_gates import XGate\n",
        "\n",
        "#\n",
        "# Your solution here\n",
        "#\n"
      ]
    },
    {
      "cell_type": "markdown",
      "metadata": {
        "id": "yq9lT_jTIXLx"
      },
      "source": [
        "[click for our solution](A00_Qiskit_Introduction_Solutions.ipynb#task2)"
      ]
    },
    {
      "cell_type": "markdown",
      "metadata": {
        "id": "zXUnZNYuIXL0"
      },
      "source": [
        "<hr>\n",
        "<h2>Running Circuits</h2>"
      ]
    },
    {
      "cell_type": "markdown",
      "metadata": {
        "id": "1Avo-W6EIXL0"
      },
      "source": [
        "One way to get results from your circuit is to measure and run it for multiple times. \n",
        "\n",
        "Let's first create a simple circuit and measure it. "
      ]
    },
    {
      "cell_type": "code",
      "execution_count": null,
      "metadata": {
        "id": "csS8d31nIXL1"
      },
      "outputs": [],
      "source": [
        "from qiskit import QuantumRegister, ClassicalRegister, QuantumCircuit\n",
        "\n",
        "# Create quantum and classical registers with 2 qubits\n",
        "qreg = QuantumRegister(2)\n",
        "creg = ClassicalRegister(2) \n",
        "\n",
        "# Create a new circuit\n",
        "circuit = QuantumCircuit(qreg,creg)\n",
        "\n",
        "# Apply H gate to qubit 0\n",
        "circuit.h(qreg[0])\n",
        "\n",
        "# Measure both qubits\n",
        "circuit.measure(qreg,creg)"
      ]
    },
    {
      "cell_type": "markdown",
      "metadata": {
        "id": "iO8YhSOpIXL1"
      },
      "source": [
        "Next we will create a _job_ object and use the _execute_ method of Qiskit to run our circuit multiple times and take samples."
      ]
    },
    {
      "cell_type": "code",
      "execution_count": null,
      "metadata": {
        "id": "UJ9d8elqIXL2"
      },
      "outputs": [],
      "source": [
        "# We will use the method \"execute\" and the object \"Aer\" from qiskit library\n",
        "from qiskit import execute, Aer\n",
        "\n",
        "# This is the local simulator \n",
        "simulator = Aer.get_backend('qasm_simulator')\n",
        "\n",
        "# circuit is the name of the circuit to be run\n",
        "# simulator is the backend on which the simulation will be done\n",
        "# Shots is the how many times we want to run the circuit\n",
        "job = execute(circuit,simulator,shots=1000)\n",
        "\n",
        "# Get the results as a dictionary\n",
        "counts = job.result().get_counts(circuit)\n",
        "print(counts) "
      ]
    },
    {
      "cell_type": "markdown",
      "metadata": {
        "id": "6MOIy5VuIXL3"
      },
      "source": [
        "The output of the circuit are the states $\\ket{00}$ and $\\ket{01}$ and they are measued almost equal number of times. At this point, we need to make a note about the order of the qubits in Qiskit."
      ]
    },
    {
      "cell_type": "markdown",
      "metadata": {
        "id": "9al2D2SbIXL3"
      },
      "source": [
        "Qiskit combines the two quantum bits in the following order:\n",
        "\n",
        "$$ qreg[1], qreg[0]$$\n",
        "\n",
        "For example, when $X$ gate is applied to qreg[0], the state $\\ket{00}$ becomes $\\ket{01}$. If you want to obtain state $\\ket{10}$, then you should apply $X$ gate to qreg[1].\n"
      ]
    },
    {
      "cell_type": "markdown",
      "metadata": {
        "id": "8R--H31uIXL4"
      },
      "source": [
        "It is also possible to measure only some of the qubits. Let's only measure qreg[0] this time."
      ]
    },
    {
      "cell_type": "code",
      "execution_count": null,
      "metadata": {
        "id": "JS5mnotBIXL4"
      },
      "outputs": [],
      "source": [
        "from qiskit import QuantumRegister, ClassicalRegister, QuantumCircuit\n",
        "\n",
        "# Create quantum and classical registers with 2 qubits\n",
        "qreg = QuantumRegister(2)\n",
        "creg = ClassicalRegister(1) # It is enough to create a clasical register with 1 bit\n",
        "\n",
        "# Create a new circuit\n",
        "circuit = QuantumCircuit(qreg,creg)\n",
        "\n",
        "# Apply H gate to qubit 0\n",
        "circuit.h(qreg[0])\n",
        "\n",
        "# Measure qreg[0]\n",
        "circuit.measure(qreg[0],creg[0])\n",
        "\n",
        "simulator = Aer.get_backend('qasm_simulator')\n",
        "job = execute(circuit,simulator,shots=1000)\n",
        "\n",
        "counts = job.result().get_counts(circuit)\n",
        "print(counts) "
      ]
    },
    {
      "cell_type": "markdown",
      "metadata": {
        "id": "FMT2R5k9IXL4"
      },
      "source": [
        "### Task 3\n",
        "    \n",
        "Implement the circuit in Task 1. Measure all the qubits and simulate your circuit for 1000 times."
      ]
    },
    {
      "cell_type": "code",
      "execution_count": null,
      "metadata": {
        "id": "sbKtCQWQIXL5"
      },
      "outputs": [],
      "source": [
        "from qiskit import QuantumRegister, ClassicalRegister, QuantumCircuit\n",
        "from qiskit import execute, Aer\n",
        "\n",
        "#\n",
        "# Your solution here\n",
        "#\n"
      ]
    },
    {
      "cell_type": "markdown",
      "metadata": {
        "id": "SDAWTr2mIXL6"
      },
      "source": [
        "[click for our solution](A00_Qiskit_Introduction_Solutions.ipynb#task3)"
      ]
    },
    {
      "cell_type": "markdown",
      "metadata": {
        "id": "Gvz5JrWLIXL6"
      },
      "source": [
        "## Debugging the circuits - State Representation"
      ]
    },
    {
      "cell_type": "markdown",
      "metadata": {
        "id": "QWa5kGBUIXL7"
      },
      "source": [
        "It is possible to get the exact quantum state from the simulator. You shouldn't measure your circuit before getting the state. \n",
        "\n",
        "We will use the <i>statevector_simulator</i> backend of Qiskit and set the number of shots as 1 to obtain the vector representing the quantum state."
      ]
    },
    {
      "cell_type": "code",
      "execution_count": null,
      "metadata": {
        "id": "g7dFBgrqIXL8"
      },
      "outputs": [],
      "source": [
        "from qiskit import QuantumRegister, ClassicalRegister, QuantumCircuit\n",
        "\n",
        "# Create quantum and classical registers with 2 qubits\n",
        "qreg = QuantumRegister(2)\n",
        "creg = ClassicalRegister(2)\n",
        "\n",
        "# Create a new circuit\n",
        "circuit = QuantumCircuit(qreg,creg)\n",
        "\n",
        "# Apply H gate to qubit 0\n",
        "circuit.h(qreg[0])\n",
        "\n",
        "# This is the statevector simulator\n",
        "vsimulator = Aer.get_backend('statevector_simulator')\n",
        "job = execute(circuit,vsimulator,shots=1)\n",
        "\n",
        "state = job.result().get_statevector()\n",
        "print(state) "
      ]
    },
    {
      "cell_type": "markdown",
      "metadata": {
        "id": "PZwNVls0IXL9"
      },
      "source": [
        "If you use simulator after the measurement, you will observe that the quantum state has collapsed to one of the states."
      ]
    },
    {
      "cell_type": "code",
      "execution_count": null,
      "metadata": {
        "id": "-v0F2bQcIXL-"
      },
      "outputs": [],
      "source": [
        "circuit.measure(qreg,creg)\n",
        "job = execute(circuit,vsimulator,shots=1)\n",
        "\n",
        "state = job.result().get_statevector()\n",
        "print(state) "
      ]
    },
    {
      "cell_type": "markdown",
      "metadata": {
        "id": "LJBjyodXIXL_"
      },
      "source": [
        "### Task 4\n",
        "    \n",
        "Create a quantum circuit with 4 qubits. Apply Hadamard gate to each qubit and $\\qgate{CZ}$ gate to qreg[3] and qreg[2]. Use the simulator without measuring the circuit. Check the entries with negative sign."
      ]
    },
    {
      "cell_type": "code",
      "execution_count": null,
      "metadata": {
        "id": "HkT2WHh6IXL_"
      },
      "outputs": [],
      "source": [
        "from qiskit import QuantumRegister, ClassicalRegister, QuantumCircuit\n",
        "from qiskit import execute, Aer\n",
        "#\n",
        "# Your solution here\n",
        "#\n"
      ]
    },
    {
      "cell_type": "markdown",
      "metadata": {
        "id": "t20KqEwhIXMA"
      },
      "source": [
        "[click for our solution](A00_Qiskit_Introduction_Solutions.ipynb#task4)"
      ]
    },
    {
      "cell_type": "markdown",
      "metadata": {
        "id": "T5pGAUT4IXMA"
      },
      "source": [
        "<hr>\n",
        "<h2>Unitary Matrix Representation</h2>"
      ]
    },
    {
      "cell_type": "markdown",
      "metadata": {
        "id": "uVo63sAMIXMB"
      },
      "source": [
        "It is possible to obtain <i>unitary</i> matrix representation of gates and circuits."
      ]
    },
    {
      "cell_type": "code",
      "execution_count": null,
      "metadata": {
        "id": "BtzmN8tDIXMB"
      },
      "outputs": [],
      "source": [
        "from qiskit.circuit.library.standard_gates import XGate, CXGate\n",
        "\n",
        "ROOTX = XGate().power(exponent=0.5)\n",
        "\n",
        "print('Unitary matrix representation of the CNOT gate')\n",
        "print(CXGate().to_matrix())\n",
        "print('Unitary matrix representation of the ROOTX gate we have created')\n",
        "print(ROOTX.to_matrix())"
      ]
    },
    {
      "cell_type": "code",
      "execution_count": null,
      "metadata": {
        "id": "DtKeRHzDIXMC"
      },
      "outputs": [],
      "source": [
        "# Quantum register with 2 qubits\n",
        "qreg = QuantumRegister(2)\n",
        "circuit = QuantumCircuit(qreg)\n",
        "\n",
        "# Apply H gate to all qubits\n",
        "circuit.h(qreg)\n",
        "\n",
        "# Unitary simulator\n",
        "usimulator = Aer.get_backend('unitary_simulator')\n",
        "job = execute(circuit,usimulator,shots=1)\n",
        "\n",
        "matrix = job.result().get_unitary()\n",
        "\n",
        "print('Unitary matrix representation of H operator on 2 qubits.')\n",
        "print(matrix) "
      ]
    }
  ],
  "metadata": {
    "kernelspec": {
      "display_name": "Python 3",
      "language": "python",
      "name": "python3"
    },
    "language_info": {
      "codemirror_mode": {
        "name": "ipython",
        "version": 3
      },
      "file_extension": ".py",
      "mimetype": "text/x-python",
      "name": "python",
      "nbconvert_exporter": "python",
      "pygments_lexer": "ipython3",
      "version": "3.8.8"
    },
    "colab": {
      "provenance": [],
      "include_colab_link": true
    }
  },
  "nbformat": 4,
  "nbformat_minor": 0
}